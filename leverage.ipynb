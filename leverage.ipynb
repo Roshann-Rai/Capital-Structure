{
 "cells": [
  {
   "cell_type": "code",
   "execution_count": 42,
   "metadata": {
    "vscode": {
     "languageId": "r"
    }
   },
   "outputs": [],
   "source": [
    "library(dplyr)\n",
    "library(tidyverse)\n",
    "library(stargazer)\n",
    "library(corrplot)\n",
    "library(plm)\n",
    "library(stats)\n",
    "library(plotly)\n",
    "library(cowplot)"
   ]
  },
  {
   "cell_type": "code",
   "execution_count": 43,
   "metadata": {
    "vscode": {
     "languageId": "r"
    }
   },
   "outputs": [
    {
     "name": "stderr",
     "output_type": "stream",
     "text": [
      "\u001b[1mRows: \u001b[22m\u001b[34m56\u001b[39m \u001b[1mColumns: \u001b[22m\u001b[34m5\u001b[39m\n",
      "\u001b[36m──\u001b[39m \u001b[1mColumn specification\u001b[22m \u001b[36m────────────────────────────────────────────────────────\u001b[39m\n",
      "\u001b[1mDelimiter:\u001b[22m \",\"\n",
      "\u001b[31mchr\u001b[39m (1): firms\n",
      "\u001b[32mdbl\u001b[39m (4): year, ldr, sdr, dr\n",
      "\n",
      "\u001b[36mℹ\u001b[39m Use `spec()` to retrieve the full column specification for this data.\n",
      "\u001b[36mℹ\u001b[39m Specify the column types or set `show_col_types = FALSE` to quiet this message.\n",
      "\u001b[1mRows: \u001b[22m\u001b[34m12\u001b[39m \u001b[1mColumns: \u001b[22m\u001b[34m5\u001b[39m\n",
      "\u001b[36m──\u001b[39m \u001b[1mColumn specification\u001b[22m \u001b[36m────────────────────────────────────────────────────────\u001b[39m\n",
      "\u001b[1mDelimiter:\u001b[22m \",\"\n",
      "\u001b[32mdbl\u001b[39m (5): year, interest, inflation, gdp_growth, stock_market_capitalization_gdp\n",
      "\n",
      "\u001b[36mℹ\u001b[39m Use `spec()` to retrieve the full column specification for this data.\n",
      "\u001b[36mℹ\u001b[39m Specify the column types or set `show_col_types = FALSE` to quiet this message.\n",
      "\u001b[1mRows: \u001b[22m\u001b[34m48\u001b[39m \u001b[1mColumns: \u001b[22m\u001b[34m3\u001b[39m\n",
      "\u001b[36m──\u001b[39m \u001b[1mColumn specification\u001b[22m \u001b[36m────────────────────────────────────────────────────────\u001b[39m\n",
      "\u001b[1mDelimiter:\u001b[22m \",\"\n",
      "\u001b[31mchr\u001b[39m (1): macroeconomic\n",
      "\u001b[32mdbl\u001b[39m (2): year, percent\n",
      "\n",
      "\u001b[36mℹ\u001b[39m Use `spec()` to retrieve the full column specification for this data.\n",
      "\u001b[36mℹ\u001b[39m Specify the column types or set `show_col_types = FALSE` to quiet this message.\n"
     ]
    },
    {
     "data": {
      "text/html": [
       "<table class=\"dataframe\">\n",
       "<caption>A tibble: 6 × 5</caption>\n",
       "<thead>\n",
       "\t<tr><th scope=col>year</th><th scope=col>interest</th><th scope=col>inflation</th><th scope=col>gdp_growth</th><th scope=col>stock_market_capitalization_gdp</th></tr>\n",
       "\t<tr><th scope=col>&lt;dbl&gt;</th><th scope=col>&lt;dbl&gt;</th><th scope=col>&lt;dbl&gt;</th><th scope=col>&lt;dbl&gt;</th><th scope=col>&lt;dbl&gt;</th></tr>\n",
       "</thead>\n",
       "<tbody>\n",
       "\t<tr><td>2011</td><td>0.1090</td><td>0.096</td><td>0.034</td><td>0.240</td></tr>\n",
       "\t<tr><td>2012</td><td>0.1100</td><td>0.083</td><td>0.047</td><td>0.236</td></tr>\n",
       "\t<tr><td>2013</td><td>0.1209</td><td>0.099</td><td>0.035</td><td>0.302</td></tr>\n",
       "\t<tr><td>2014</td><td>0.1141</td><td>0.090</td><td>0.060</td><td>0.548</td></tr>\n",
       "\t<tr><td>2015</td><td>0.0984</td><td>0.072</td><td>0.040</td><td>0.466</td></tr>\n",
       "\t<tr><td>2016</td><td>0.0929</td><td>0.099</td><td>0.004</td><td>0.841</td></tr>\n",
       "</tbody>\n",
       "</table>\n"
      ],
      "text/latex": [
       "A tibble: 6 × 5\n",
       "\\begin{tabular}{lllll}\n",
       " year & interest & inflation & gdp\\_growth & stock\\_market\\_capitalization\\_gdp\\\\\n",
       " <dbl> & <dbl> & <dbl> & <dbl> & <dbl>\\\\\n",
       "\\hline\n",
       "\t 2011 & 0.1090 & 0.096 & 0.034 & 0.240\\\\\n",
       "\t 2012 & 0.1100 & 0.083 & 0.047 & 0.236\\\\\n",
       "\t 2013 & 0.1209 & 0.099 & 0.035 & 0.302\\\\\n",
       "\t 2014 & 0.1141 & 0.090 & 0.060 & 0.548\\\\\n",
       "\t 2015 & 0.0984 & 0.072 & 0.040 & 0.466\\\\\n",
       "\t 2016 & 0.0929 & 0.099 & 0.004 & 0.841\\\\\n",
       "\\end{tabular}\n"
      ],
      "text/markdown": [
       "\n",
       "A tibble: 6 × 5\n",
       "\n",
       "| year &lt;dbl&gt; | interest &lt;dbl&gt; | inflation &lt;dbl&gt; | gdp_growth &lt;dbl&gt; | stock_market_capitalization_gdp &lt;dbl&gt; |\n",
       "|---|---|---|---|---|\n",
       "| 2011 | 0.1090 | 0.096 | 0.034 | 0.240 |\n",
       "| 2012 | 0.1100 | 0.083 | 0.047 | 0.236 |\n",
       "| 2013 | 0.1209 | 0.099 | 0.035 | 0.302 |\n",
       "| 2014 | 0.1141 | 0.090 | 0.060 | 0.548 |\n",
       "| 2015 | 0.0984 | 0.072 | 0.040 | 0.466 |\n",
       "| 2016 | 0.0929 | 0.099 | 0.004 | 0.841 |\n",
       "\n"
      ],
      "text/plain": [
       "  year interest inflation gdp_growth stock_market_capitalization_gdp\n",
       "1 2011 0.1090   0.096     0.034      0.240                          \n",
       "2 2012 0.1100   0.083     0.047      0.236                          \n",
       "3 2013 0.1209   0.099     0.035      0.302                          \n",
       "4 2014 0.1141   0.090     0.060      0.548                          \n",
       "5 2015 0.0984   0.072     0.040      0.466                          \n",
       "6 2016 0.0929   0.099     0.004      0.841                          "
      ]
     },
     "metadata": {},
     "output_type": "display_data"
    },
    {
     "data": {
      "text/html": [
       "<table class=\"dataframe\">\n",
       "<caption>A tibble: 6 × 3</caption>\n",
       "<thead>\n",
       "\t<tr><th scope=col>year</th><th scope=col>macroeconomic</th><th scope=col>percent</th></tr>\n",
       "\t<tr><th scope=col>&lt;dbl&gt;</th><th scope=col>&lt;chr&gt;</th><th scope=col>&lt;dbl&gt;</th></tr>\n",
       "</thead>\n",
       "<tbody>\n",
       "\t<tr><td>2011</td><td>Interest Rate</td><td>0.1090</td></tr>\n",
       "\t<tr><td>2012</td><td>Interest Rate</td><td>0.1100</td></tr>\n",
       "\t<tr><td>2013</td><td>Interest Rate</td><td>0.1209</td></tr>\n",
       "\t<tr><td>2014</td><td>Interest Rate</td><td>0.1141</td></tr>\n",
       "\t<tr><td>2015</td><td>Interest Rate</td><td>0.0984</td></tr>\n",
       "\t<tr><td>2016</td><td>Interest Rate</td><td>0.0929</td></tr>\n",
       "</tbody>\n",
       "</table>\n"
      ],
      "text/latex": [
       "A tibble: 6 × 3\n",
       "\\begin{tabular}{lll}\n",
       " year & macroeconomic & percent\\\\\n",
       " <dbl> & <chr> & <dbl>\\\\\n",
       "\\hline\n",
       "\t 2011 & Interest Rate & 0.1090\\\\\n",
       "\t 2012 & Interest Rate & 0.1100\\\\\n",
       "\t 2013 & Interest Rate & 0.1209\\\\\n",
       "\t 2014 & Interest Rate & 0.1141\\\\\n",
       "\t 2015 & Interest Rate & 0.0984\\\\\n",
       "\t 2016 & Interest Rate & 0.0929\\\\\n",
       "\\end{tabular}\n"
      ],
      "text/markdown": [
       "\n",
       "A tibble: 6 × 3\n",
       "\n",
       "| year &lt;dbl&gt; | macroeconomic &lt;chr&gt; | percent &lt;dbl&gt; |\n",
       "|---|---|---|\n",
       "| 2011 | Interest Rate | 0.1090 |\n",
       "| 2012 | Interest Rate | 0.1100 |\n",
       "| 2013 | Interest Rate | 0.1209 |\n",
       "| 2014 | Interest Rate | 0.1141 |\n",
       "| 2015 | Interest Rate | 0.0984 |\n",
       "| 2016 | Interest Rate | 0.0929 |\n",
       "\n"
      ],
      "text/plain": [
       "  year macroeconomic percent\n",
       "1 2011 Interest Rate 0.1090 \n",
       "2 2012 Interest Rate 0.1100 \n",
       "3 2013 Interest Rate 0.1209 \n",
       "4 2014 Interest Rate 0.1141 \n",
       "5 2015 Interest Rate 0.0984 \n",
       "6 2016 Interest Rate 0.0929 "
      ]
     },
     "metadata": {},
     "output_type": "display_data"
    },
    {
     "data": {
      "text/html": [
       "<table class=\"dataframe\">\n",
       "<caption>A tibble: 6 × 5</caption>\n",
       "<thead>\n",
       "\t<tr><th scope=col>year</th><th scope=col>firms</th><th scope=col>ldr</th><th scope=col>sdr</th><th scope=col>dr</th></tr>\n",
       "\t<tr><th scope=col>&lt;dbl&gt;</th><th scope=col>&lt;chr&gt;</th><th scope=col>&lt;dbl&gt;</th><th scope=col>&lt;dbl&gt;</th><th scope=col>&lt;dbl&gt;</th></tr>\n",
       "</thead>\n",
       "<tbody>\n",
       "\t<tr><td>2011</td><td>HDL</td><td>0.0711</td><td>0.2730</td><td>0.3440</td></tr>\n",
       "\t<tr><td>2012</td><td>HDL</td><td>0.0031</td><td>0.2274</td><td>0.2305</td></tr>\n",
       "\t<tr><td>2013</td><td>HDL</td><td>0.0013</td><td>0.1865</td><td>0.1878</td></tr>\n",
       "\t<tr><td>2014</td><td>HDL</td><td>0.0711</td><td>0.2074</td><td>0.2785</td></tr>\n",
       "\t<tr><td>2015</td><td>HDL</td><td>0.0448</td><td>0.1571</td><td>0.2019</td></tr>\n",
       "\t<tr><td>2016</td><td>HDL</td><td>0.0320</td><td>0.0808</td><td>0.1128</td></tr>\n",
       "</tbody>\n",
       "</table>\n"
      ],
      "text/latex": [
       "A tibble: 6 × 5\n",
       "\\begin{tabular}{lllll}\n",
       " year & firms & ldr & sdr & dr\\\\\n",
       " <dbl> & <chr> & <dbl> & <dbl> & <dbl>\\\\\n",
       "\\hline\n",
       "\t 2011 & HDL & 0.0711 & 0.2730 & 0.3440\\\\\n",
       "\t 2012 & HDL & 0.0031 & 0.2274 & 0.2305\\\\\n",
       "\t 2013 & HDL & 0.0013 & 0.1865 & 0.1878\\\\\n",
       "\t 2014 & HDL & 0.0711 & 0.2074 & 0.2785\\\\\n",
       "\t 2015 & HDL & 0.0448 & 0.1571 & 0.2019\\\\\n",
       "\t 2016 & HDL & 0.0320 & 0.0808 & 0.1128\\\\\n",
       "\\end{tabular}\n"
      ],
      "text/markdown": [
       "\n",
       "A tibble: 6 × 5\n",
       "\n",
       "| year &lt;dbl&gt; | firms &lt;chr&gt; | ldr &lt;dbl&gt; | sdr &lt;dbl&gt; | dr &lt;dbl&gt; |\n",
       "|---|---|---|---|---|\n",
       "| 2011 | HDL | 0.0711 | 0.2730 | 0.3440 |\n",
       "| 2012 | HDL | 0.0031 | 0.2274 | 0.2305 |\n",
       "| 2013 | HDL | 0.0013 | 0.1865 | 0.1878 |\n",
       "| 2014 | HDL | 0.0711 | 0.2074 | 0.2785 |\n",
       "| 2015 | HDL | 0.0448 | 0.1571 | 0.2019 |\n",
       "| 2016 | HDL | 0.0320 | 0.0808 | 0.1128 |\n",
       "\n"
      ],
      "text/plain": [
       "  year firms ldr    sdr    dr    \n",
       "1 2011 HDL   0.0711 0.2730 0.3440\n",
       "2 2012 HDL   0.0031 0.2274 0.2305\n",
       "3 2013 HDL   0.0013 0.1865 0.1878\n",
       "4 2014 HDL   0.0711 0.2074 0.2785\n",
       "5 2015 HDL   0.0448 0.1571 0.2019\n",
       "6 2016 HDL   0.0320 0.0808 0.1128"
      ]
     },
     "metadata": {},
     "output_type": "display_data"
    }
   ],
   "source": [
    "# Dataset\n",
    "leverage <- read_csv(\"D:/roshan/leverage/leverage.csv\")\n",
    "m.eco <- read_csv(\"D:/roshan/leverage/macro_economic.csv\")\n",
    "m.eco2 <- read_csv(\"D:/roshan/leverage/meco.csv\")\n",
    "head(m.eco)\n",
    "head(m.eco2)\n",
    "head(leverage)"
   ]
  },
  {
   "cell_type": "code",
   "execution_count": 44,
   "metadata": {
    "vscode": {
     "languageId": "r"
    }
   },
   "outputs": [],
   "source": [
    "# Font\n",
    "font = list(\n",
    "    family = \"DM Sans\",\n",
    "    size = 15,\n",
    "    color = \"white\"\n",
    ")\n",
    "\n",
    "label = list(\n",
    "    bgcolor = \"#2f2d2d\",\n",
    "    font = font,\n",
    "    bordercolor = \"transparent\"\n",
    ")"
   ]
  },
  {
   "cell_type": "code",
   "execution_count": 45,
   "metadata": {
    "vscode": {
     "languageId": "r"
    }
   },
   "outputs": [
    {
     "name": "stderr",
     "output_type": "stream",
     "text": [
      "Found a grid already named: 'SDR Grid'. Since fileopt='overwrite', I'll try to update it\n",
      "\n",
      "Found a plot already named: 'SDR'. Since fileopt='overwrite', I'll try to update it\n",
      "\n"
     ]
    }
   ],
   "source": [
    "# Plot for short-term debt\n",
    "leverage.sdr <- leverage %>%\n",
    "select(year, firms, sdr) %>%\n",
    "group_by(year) %>%\n",
    "mutate(Median = round(median(sdr, na.rm =T)*100,2),\n",
    "SDR = sdr*100) %>%\n",
    "rename(\"Firm\" = \"firms\", \"Year\" = \"year\") %>%\n",
    "ggplot(aes(Year)) +\n",
    "geom_line(aes(y = SDR, color = Firm), linetype = 2, linewidth = 0.9) +\n",
    "geom_line(aes(y = Median), linetype = 1, linewidth = 1.3) + \n",
    "scale_x_continuous(breaks = seq(2011,2022, by = 1)) +\n",
    "labs(\n",
    "    title = \"Short-Term Debt Ratio of Manufacturing Firms\",\n",
    "    x = \"\",\n",
    "    y = \"%\",\n",
    "    caption = \"Notes: \\na. Short-term debt ratio is calculated by author using data from the annual report from respective firms. \\nb. The black line represents the median short-term debt ratio.\"\n",
    ") +\n",
    "theme_minimal() +\n",
    "theme(axis.text.x = element_text(size = 11, color = \"black\"),\n",
    "axis.text = element_text(color = \"black\", size = 16),\n",
    "axis.text.y = element_text(size = 11, color = \"black\"),\n",
    "panel.grid.major.y = element_line(color = \"gray\", linetype = \"dashed\"),\n",
    "panel.grid.major.x = element_blank(),\n",
    "legend.position = \"bottom\",\n",
    "title = element_text(size = 14, color = \"black\", face = \"bold\"),\n",
    "plot.caption = element_text(color = \"black\", face = \"plain\", size = 10, hjust = 0)) +\n",
    "scale_color_manual(\n",
    "    name = \"\",\n",
    "    breaks = c(\"BNL\", \"BNT\", \"HDL\", \"NLO\", \"SHIVM\", \"UNL\"),\n",
    "    values = c(\"red\", \"#f210cc\", \"#eeee0e\", \"#479d47\", \"navyblue\", \"#0cbee2\")\n",
    ") \n",
    "\n",
    "p1 <- ggplotly(leverage.sdr) %>%\n",
    "style(hoverlabel = label) %>%\n",
    "layout(\n",
    "    yaxis = list(fixedrange = TRUE),\n",
    "    xaxis = list(fixedrange = TRUE)) %>%\n",
    "config(displayModeBar = FALSE)\n",
    "\n",
    "Sys.setenv(\"plotly_username\" = \"RoshanRai\")\n",
    "Sys.setenv(\"plotly_api_key\"=\"LeTBVhCSwHESr1t0tR4l\")\n",
    "api_create(p1, \"SDR\")\n"
   ]
  },
  {
   "cell_type": "code",
   "execution_count": 46,
   "metadata": {
    "vscode": {
     "languageId": "r"
    }
   },
   "outputs": [
    {
     "name": "stderr",
     "output_type": "stream",
     "text": [
      "Found a grid already named: 'LDR Grid'. Since fileopt='overwrite', I'll try to update it\n",
      "\n",
      "Found a plot already named: 'LDR'. Since fileopt='overwrite', I'll try to update it\n",
      "\n"
     ]
    }
   ],
   "source": [
    "# Plot for long-term debt\n",
    "leverage.ldr <- leverage %>%\n",
    "select(year, firms, ldr) %>%\n",
    "group_by(year) %>%\n",
    "mutate(Median = median(ldr, na.rm =T)*100,\n",
    "LDR = ldr*100) %>%\n",
    "rename(\"Firm\" = \"firms\", \"Year\" = \"year\") %>%\n",
    "ggplot(aes(Year)) +\n",
    "geom_line(aes(y = LDR, color = Firm), linetype = 2, linewidth = 0.9) +\n",
    "geom_line(aes(y = Median), linetype = 1, linewidth = 1.3) + \n",
    "scale_x_continuous(breaks = seq(2011,2022, by = 1)) +\n",
    "scale_y_continuous(breaks = seq(0,40, by = 5)) +\n",
    "labs(\n",
    "    title = \"Long-Term Debt Ratio of Manufacturing Firms\",\n",
    "    x = \"\",\n",
    "    y = \"%\",\n",
    "    caption = \"Notes: \\na. Long-term debt ratio is calculated by author using data from the annual report from respective firms. \\nb. The black line represents the median long-term debt ratio.\"\n",
    ") +\n",
    "theme_minimal() +\n",
    "theme(axis.text.x = element_text(size = 11, color = \"black\"),\n",
    "axis.text = element_text(color = \"black\", size = 16),\n",
    "axis.text.y = element_text(size = 11, color = \"black\"),\n",
    "panel.grid.major.y = element_line(color = \"gray\", linetype = \"dashed\"),\n",
    "panel.grid.major.x = element_blank(),\n",
    "legend.position = \"bottom\",\n",
    "title = element_text(size = 14, color = \"black\", face = \"bold\"),\n",
    "plot.caption = element_text(color = \"black\", face = \"plain\", size = 10, hjust = 0)) +\n",
    "scale_color_manual(\n",
    "    name = \"\",\n",
    "    breaks = c(\"BNL\", \"BNT\", \"HDL\", \"NLO\", \"SHIVM\", \"UNL\"),\n",
    "    values = c(\"red\", \"#f210cc\", \"#eeee0e\", \"#479d47\", \"navyblue\", \"#0cbee2\")\n",
    ") \n",
    "\n",
    "p2 <- ggplotly(leverage.ldr) %>%\n",
    "style(hoverlabel = label) %>%\n",
    "layout(\n",
    "    yaxis = list(fixedrange = TRUE),\n",
    "    xaxis = list(fixedrange = TRUE)) %>%\n",
    "config(displayModeBar = FALSE)\n",
    "\n",
    "Sys.setenv(\"plotly_username\" = \"RoshanRai\")\n",
    "Sys.setenv(\"plotly_api_key\"=\"LeTBVhCSwHESr1t0tR4l\")\n",
    "api_create(p2, \"LDR\")"
   ]
  },
  {
   "cell_type": "code",
   "execution_count": 47,
   "metadata": {
    "vscode": {
     "languageId": "r"
    }
   },
   "outputs": [
    {
     "name": "stderr",
     "output_type": "stream",
     "text": [
      "Found a grid already named: 'DR Grid'. Since fileopt='overwrite', I'll try to update it\n",
      "\n",
      "Found a plot already named: 'DR'. Since fileopt='overwrite', I'll try to update it\n",
      "\n"
     ]
    }
   ],
   "source": [
    "# Plot for total debt ratio\n",
    "leverage.dr <- leverage %>%\n",
    "select(year, firms, dr) %>%\n",
    "group_by(year) %>%\n",
    "mutate(Median = median(dr, na.rm =T) * 100,\n",
    "DR = dr * 100) %>%\n",
    "rename(\"Year\" = \"year\", \"Firm\" = \"firms\") %>%\n",
    "ggplot(aes(Year)) +\n",
    "geom_line(aes(y = DR, color = Firm), linetype = 2, linewidth = 0.9) +\n",
    "geom_line(aes(y = Median), linetype = 1, linewidth = 1.3) + \n",
    "scale_x_continuous(breaks = seq(2011,2022, by = 1)) +\n",
    "labs(\n",
    "    title = \"Total Debt Ratio of Manufacturing Firms\",\n",
    "    x = \"\",\n",
    "    y = \"%\",\n",
    "    caption = \"Notes: \\na. Total debt ratio is calculated by author using data from the annual report from respective firms. \\nb. The black line represents the median total debt ratio.\"\n",
    ") +\n",
    "theme_minimal() +\n",
    "theme(axis.text.x = element_text(size = 11, color = \"black\"),\n",
    "axis.text = element_text(color = \"black\", size = 16),\n",
    "axis.text.y = element_text(size = 11, color = \"black\"),\n",
    "panel.grid.major.y = element_line(color = \"gray\", linetype = \"dashed\"),\n",
    "panel.grid.major.x = element_blank(),\n",
    "legend.position = \"bottom\",\n",
    "title = element_text(size = 14, color = \"black\", face = \"bold\"),\n",
    "plot.caption = element_text(color = \"black\", face = \"plain\", size = 10, hjust = 0)) +\n",
    "scale_color_manual(\n",
    "    name = \"\",\n",
    "    breaks = c(\"BNL\", \"BNT\", \"HDL\", \"NLO\", \"SHIVM\", \"UNL\"),\n",
    "    values = c(\"red\", \"#f210cc\", \"#eeee0e\", \"#479d47\", \"navyblue\", \"#0cbee2\")\n",
    ") \n",
    "\n",
    "p3 <- ggplotly(leverage.dr) %>%\n",
    "style(hoverlabel = label) %>%\n",
    "layout(\n",
    "    yaxis = list(fixedrange = TRUE),\n",
    "    xaxis = list(fixedrange = TRUE)) %>%\n",
    "config(displayModeBar = FALSE)\n",
    "\n",
    "Sys.setenv(\"plotly_username\" = \"RoshanRai\")\n",
    "Sys.setenv(\"plotly_api_key\"=\"LeTBVhCSwHESr1t0tR4l\")\n",
    "api_create(p3, \"DR\")"
   ]
  },
  {
   "cell_type": "code",
   "execution_count": 60,
   "metadata": {
    "vscode": {
     "languageId": "r"
    }
   },
   "outputs": [
    {
     "name": "stderr",
     "output_type": "stream",
     "text": [
      "Found a grid already named: 'Macroeconomic condition of Nepal Grid'. Since fileopt='overwrite', I'll try to update it\n",
      "\n",
      "Found a plot already named: 'Macroeconomic condition of Nepal'. Since fileopt='overwrite', I'll try to update it\n",
      "\n"
     ]
    },
    {
     "data": {
      "image/png": "[encoded data removed]",
      "text/plain": [
       "plot without title"
      ]
     },
     "metadata": {
      "image/png": {
       "height": 420,
       "width": 420
      }
     },
     "output_type": "display_data"
    }
   ],
   "source": [
    "# Macro-economic variables plot\n",
    "m.eco2.plot <- m.eco2 %>%\n",
    "mutate(percent = percent * 100) %>%\n",
    "ggplot(aes(x = year)) +\n",
    "geom_line(aes(y = percent), size = 1) +\n",
    "facet_wrap(~macroeconomic, scales = \"free_y\") +\n",
    "scale_x_continuous(breaks = seq(2011,2022, by = 1)) + \n",
    "labs(\n",
    "    title = \"Macro-economic condition of Nepal\",\n",
    "    subtitle = \"2011-2022\",\n",
    "    x = \"\",\n",
    "    y = \"Percent\",\n",
    ") +\n",
    "theme_bw() +\n",
    "theme(axis.text.x = element_text(size = 9, color = \"black\"),\n",
    "axis.text = element_text(color = \"black\", size = 16),\n",
    "axis.text.y = element_text(size = 11, color = \"black\"),\n",
    "panel.grid.major.y = element_line(color = \"gray\", linetype = \"dashed\"),\n",
    "panel.grid.major.x = element_blank(),\n",
    "title = element_text(size = 14, color = \"black\", face = \"bold\"),\n",
    "strip.background = element_blank(),\n",
    "strip.placement = \"outside\",\n",
    "strip.text.x = element_text(size = 10, face = \"bold\"))\n",
    "\n",
    "p4 <- ggplotly(m.eco2.plot) %>%\n",
    "style(hoverlabel = label) %>%\n",
    "layout(\n",
    "    yaxis = list(fixedrange = TRUE),\n",
    "    xaxis = list(fixedrange = TRUE)) %>%\n",
    "config(displayModeBar = FALSE)\n",
    "\n",
    "Sys.setenv(\"plotly_username\" = \"RoshanRai\")\n",
    "Sys.setenv(\"plotly_api_key\"=\"LeTBVhCSwHESr1t0tR4l\")\n",
    "api_create(p4, \"Macroeconomic condition of Nepal\")"
   ]
  },
  {
   "cell_type": "code",
   "execution_count": 49,
   "metadata": {
    "vscode": {
     "languageId": "r"
    }
   },
   "outputs": [
    {
     "data": {
      "text/html": [
       "<table class=\"dataframe\">\n",
       "<caption>A tibble: 6 × 3</caption>\n",
       "<thead>\n",
       "\t<tr><th scope=col>firms</th><th scope=col>median.ldr.prop</th><th scope=col>median.sdr.prop</th></tr>\n",
       "\t<tr><th scope=col>&lt;chr&gt;</th><th scope=col>&lt;dbl&gt;</th><th scope=col>&lt;dbl&gt;</th></tr>\n",
       "</thead>\n",
       "<tbody>\n",
       "\t<tr><td>BNL  </td><td>0.00</td><td>1.00</td></tr>\n",
       "\t<tr><td>BNT  </td><td>0.32</td><td>0.68</td></tr>\n",
       "\t<tr><td>HDL  </td><td>0.02</td><td>0.94</td></tr>\n",
       "\t<tr><td>NLO  </td><td>0.00</td><td>1.00</td></tr>\n",
       "\t<tr><td>SHIVM</td><td>0.42</td><td>0.58</td></tr>\n",
       "\t<tr><td>UNL  </td><td>0.00</td><td>0.00</td></tr>\n",
       "</tbody>\n",
       "</table>\n"
      ],
      "text/latex": [
       "A tibble: 6 × 3\n",
       "\\begin{tabular}{lll}\n",
       " firms & median.ldr.prop & median.sdr.prop\\\\\n",
       " <chr> & <dbl> & <dbl>\\\\\n",
       "\\hline\n",
       "\t BNL   & 0.00 & 1.00\\\\\n",
       "\t BNT   & 0.32 & 0.68\\\\\n",
       "\t HDL   & 0.02 & 0.94\\\\\n",
       "\t NLO   & 0.00 & 1.00\\\\\n",
       "\t SHIVM & 0.42 & 0.58\\\\\n",
       "\t UNL   & 0.00 & 0.00\\\\\n",
       "\\end{tabular}\n"
      ],
      "text/markdown": [
       "\n",
       "A tibble: 6 × 3\n",
       "\n",
       "| firms &lt;chr&gt; | median.ldr.prop &lt;dbl&gt; | median.sdr.prop &lt;dbl&gt; |\n",
       "|---|---|---|\n",
       "| BNL   | 0.00 | 1.00 |\n",
       "| BNT   | 0.32 | 0.68 |\n",
       "| HDL   | 0.02 | 0.94 |\n",
       "| NLO   | 0.00 | 1.00 |\n",
       "| SHIVM | 0.42 | 0.58 |\n",
       "| UNL   | 0.00 | 0.00 |\n",
       "\n"
      ],
      "text/plain": [
       "  firms median.ldr.prop median.sdr.prop\n",
       "1 BNL   0.00            1.00           \n",
       "2 BNT   0.32            0.68           \n",
       "3 HDL   0.02            0.94           \n",
       "4 NLO   0.00            1.00           \n",
       "5 SHIVM 0.42            0.58           \n",
       "6 UNL   0.00            0.00           "
      ]
     },
     "metadata": {},
     "output_type": "display_data"
    }
   ],
   "source": [
    "# Proportion of short and long-term debt in total debt\n",
    "debt.proportion <- leverage %>%\n",
    "mutate(ldr.prop = round(ifelse(is.nan(ldr/dr), 0, ldr/dr),4),\n",
    "sdr.prop = round(ifelse(is.nan(sdr/dr), 0, sdr/dr),4)) %>%\n",
    "group_by(firms) %>%\n",
    "dplyr::summarise(median.ldr.prop = round(median(ldr.prop),2),\n",
    "median.sdr.prop = round(median(sdr.prop),2))\n",
    "\n",
    "debt.proportion"
   ]
  },
  {
   "cell_type": "code",
   "execution_count": 50,
   "metadata": {
    "vscode": {
     "languageId": "r"
    }
   },
   "outputs": [
    {
     "data": {
      "text/plain": [
       "      year         firms                ldr               sdr        \n",
       " Min.   :2011   Length:56          Min.   :0.00000   Min.   :0.0000  \n",
       " 1st Qu.:2015   Class :character   1st Qu.:0.00000   1st Qu.:0.0000  \n",
       " Median :2018   Mode  :character   Median :0.00000   Median :0.1092  \n",
       " Mean   :2017                      Mean   :0.03169   Mean   :0.1314  \n",
       " 3rd Qu.:2020                      3rd Qu.:0.03260   3rd Qu.:0.2200  \n",
       " Max.   :2022                      Max.   :0.27510   Max.   :0.4417  \n",
       "       dr        \n",
       " Min.   :0.0000  \n",
       " 1st Qu.:0.0000  \n",
       " Median :0.1303  \n",
       " Mean   :0.1631  \n",
       " 3rd Qu.:0.2989  \n",
       " Max.   :0.4741  "
      ]
     },
     "metadata": {},
     "output_type": "display_data"
    },
    {
     "data": {
      "text/plain": [
       "      year         interest        inflation         gdp_growth      \n",
       " Min.   :2011   Min.   :0.0843   Min.   :0.03600   Min.   :-0.02400  \n",
       " 1st Qu.:2014   1st Qu.:0.1004   1st Qu.:0.04575   1st Qu.: 0.03475  \n",
       " Median :2016   Median :0.1116   Median :0.06750   Median : 0.04450  \n",
       " Mean   :2016   Mean   :0.1089   Mean   :0.06925   Mean   : 0.04408  \n",
       " 3rd Qu.:2019   3rd Qu.:0.1174   3rd Qu.:0.09150   3rd Qu.: 0.06175  \n",
       " Max.   :2022   Max.   :0.1247   Max.   :0.09900   Max.   : 0.09000  \n",
       " stock_market_capitalization_gdp\n",
       " Min.   :0.2360                 \n",
       " 1st Qu.:0.4145                 \n",
       " Median :0.4685                 \n",
       " Mean   :0.5200                 \n",
       " 3rd Qu.:0.6168                 \n",
       " Max.   :0.9380                 "
      ]
     },
     "metadata": {},
     "output_type": "display_data"
    }
   ],
   "source": [
    "# Descriptive Statistics\n",
    "summary(leverage)\n",
    "summary(m.eco)"
   ]
  },
  {
   "cell_type": "code",
   "execution_count": 51,
   "metadata": {
    "vscode": {
     "languageId": "r"
    }
   },
   "outputs": [
    {
     "data": {
      "text/html": [
       "<table class=\"dataframe\">\n",
       "<caption>A matrix: 4 × 4 of type dbl</caption>\n",
       "<thead>\n",
       "\t<tr><th></th><th scope=col>interest</th><th scope=col>inflation</th><th scope=col>gdp_growth</th><th scope=col>stock_market_capitalization_gdp</th></tr>\n",
       "</thead>\n",
       "<tbody>\n",
       "\t<tr><th scope=row>interest</th><td> 1.0000</td><td>-0.0083</td><td> 0.5543</td><td>-0.5854</td></tr>\n",
       "\t<tr><th scope=row>inflation</th><td>-0.0083</td><td> 1.0000</td><td>-0.4157</td><td>-0.3982</td></tr>\n",
       "\t<tr><th scope=row>gdp_growth</th><td> 0.5543</td><td>-0.4157</td><td> 1.0000</td><td> 0.0103</td></tr>\n",
       "\t<tr><th scope=row>stock_market_capitalization_gdp</th><td>-0.5854</td><td>-0.3982</td><td> 0.0103</td><td> 1.0000</td></tr>\n",
       "</tbody>\n",
       "</table>\n"
      ],
      "text/latex": [
       "A matrix: 4 × 4 of type dbl\n",
       "\\begin{tabular}{r|llll}\n",
       "  & interest & inflation & gdp\\_growth & stock\\_market\\_capitalization\\_gdp\\\\\n",
       "\\hline\n",
       "\tinterest &  1.0000 & -0.0083 &  0.5543 & -0.5854\\\\\n",
       "\tinflation & -0.0083 &  1.0000 & -0.4157 & -0.3982\\\\\n",
       "\tgdp\\_growth &  0.5543 & -0.4157 &  1.0000 &  0.0103\\\\\n",
       "\tstock\\_market\\_capitalization\\_gdp & -0.5854 & -0.3982 &  0.0103 &  1.0000\\\\\n",
       "\\end{tabular}\n"
      ],
      "text/markdown": [
       "\n",
       "A matrix: 4 × 4 of type dbl\n",
       "\n",
       "| <!--/--> | interest | inflation | gdp_growth | stock_market_capitalization_gdp |\n",
       "|---|---|---|---|---|\n",
       "| interest |  1.0000 | -0.0083 |  0.5543 | -0.5854 |\n",
       "| inflation | -0.0083 |  1.0000 | -0.4157 | -0.3982 |\n",
       "| gdp_growth |  0.5543 | -0.4157 |  1.0000 |  0.0103 |\n",
       "| stock_market_capitalization_gdp | -0.5854 | -0.3982 |  0.0103 |  1.0000 |\n",
       "\n"
      ],
      "text/plain": [
       "                                interest inflation gdp_growth\n",
       "interest                         1.0000  -0.0083    0.5543   \n",
       "inflation                       -0.0083   1.0000   -0.4157   \n",
       "gdp_growth                       0.5543  -0.4157    1.0000   \n",
       "stock_market_capitalization_gdp -0.5854  -0.3982    0.0103   \n",
       "                                stock_market_capitalization_gdp\n",
       "interest                        -0.5854                        \n",
       "inflation                       -0.3982                        \n",
       "gdp_growth                       0.0103                        \n",
       "stock_market_capitalization_gdp  1.0000                        "
      ]
     },
     "metadata": {},
     "output_type": "display_data"
    }
   ],
   "source": [
    "# correlation matrix of explanatory variables\n",
    "cor.df <- m.eco %>%\n",
    "select(-year)\n",
    "\n",
    "round(cor(cor.df),4)"
   ]
  },
  {
   "cell_type": "code",
   "execution_count": 52,
   "metadata": {
    "vscode": {
     "languageId": "r"
    }
   },
   "outputs": [
    {
     "data": {
      "text/html": [
       "<table class=\"dataframe\">\n",
       "<caption>A tibble: 6 × 9</caption>\n",
       "<thead>\n",
       "\t<tr><th scope=col>year</th><th scope=col>firms</th><th scope=col>ldr</th><th scope=col>sdr</th><th scope=col>dr</th><th scope=col>interest</th><th scope=col>inflation</th><th scope=col>gdp_growth</th><th scope=col>stock_market_capitalization_gdp</th></tr>\n",
       "\t<tr><th scope=col>&lt;dbl&gt;</th><th scope=col>&lt;chr&gt;</th><th scope=col>&lt;dbl&gt;</th><th scope=col>&lt;dbl&gt;</th><th scope=col>&lt;dbl&gt;</th><th scope=col>&lt;dbl&gt;</th><th scope=col>&lt;dbl&gt;</th><th scope=col>&lt;dbl&gt;</th><th scope=col>&lt;dbl&gt;</th></tr>\n",
       "</thead>\n",
       "<tbody>\n",
       "\t<tr><td>2011</td><td>HDL</td><td>0.0711</td><td>0.2730</td><td>0.3440</td><td>0.1090</td><td>0.096</td><td>0.034</td><td>0.240</td></tr>\n",
       "\t<tr><td>2012</td><td>HDL</td><td>0.0031</td><td>0.2274</td><td>0.2305</td><td>0.1100</td><td>0.083</td><td>0.047</td><td>0.236</td></tr>\n",
       "\t<tr><td>2013</td><td>HDL</td><td>0.0013</td><td>0.1865</td><td>0.1878</td><td>0.1209</td><td>0.099</td><td>0.035</td><td>0.302</td></tr>\n",
       "\t<tr><td>2014</td><td>HDL</td><td>0.0711</td><td>0.2074</td><td>0.2785</td><td>0.1141</td><td>0.090</td><td>0.060</td><td>0.548</td></tr>\n",
       "\t<tr><td>2015</td><td>HDL</td><td>0.0448</td><td>0.1571</td><td>0.2019</td><td>0.0984</td><td>0.072</td><td>0.040</td><td>0.466</td></tr>\n",
       "\t<tr><td>2016</td><td>HDL</td><td>0.0320</td><td>0.0808</td><td>0.1128</td><td>0.0929</td><td>0.099</td><td>0.004</td><td>0.841</td></tr>\n",
       "</tbody>\n",
       "</table>\n"
      ],
      "text/latex": [
       "A tibble: 6 × 9\n",
       "\\begin{tabular}{lllllllll}\n",
       " year & firms & ldr & sdr & dr & interest & inflation & gdp\\_growth & stock\\_market\\_capitalization\\_gdp\\\\\n",
       " <dbl> & <chr> & <dbl> & <dbl> & <dbl> & <dbl> & <dbl> & <dbl> & <dbl>\\\\\n",
       "\\hline\n",
       "\t 2011 & HDL & 0.0711 & 0.2730 & 0.3440 & 0.1090 & 0.096 & 0.034 & 0.240\\\\\n",
       "\t 2012 & HDL & 0.0031 & 0.2274 & 0.2305 & 0.1100 & 0.083 & 0.047 & 0.236\\\\\n",
       "\t 2013 & HDL & 0.0013 & 0.1865 & 0.1878 & 0.1209 & 0.099 & 0.035 & 0.302\\\\\n",
       "\t 2014 & HDL & 0.0711 & 0.2074 & 0.2785 & 0.1141 & 0.090 & 0.060 & 0.548\\\\\n",
       "\t 2015 & HDL & 0.0448 & 0.1571 & 0.2019 & 0.0984 & 0.072 & 0.040 & 0.466\\\\\n",
       "\t 2016 & HDL & 0.0320 & 0.0808 & 0.1128 & 0.0929 & 0.099 & 0.004 & 0.841\\\\\n",
       "\\end{tabular}\n"
      ],
      "text/markdown": [
       "\n",
       "A tibble: 6 × 9\n",
       "\n",
       "| year &lt;dbl&gt; | firms &lt;chr&gt; | ldr &lt;dbl&gt; | sdr &lt;dbl&gt; | dr &lt;dbl&gt; | interest &lt;dbl&gt; | inflation &lt;dbl&gt; | gdp_growth &lt;dbl&gt; | stock_market_capitalization_gdp &lt;dbl&gt; |\n",
       "|---|---|---|---|---|---|---|---|---|\n",
       "| 2011 | HDL | 0.0711 | 0.2730 | 0.3440 | 0.1090 | 0.096 | 0.034 | 0.240 |\n",
       "| 2012 | HDL | 0.0031 | 0.2274 | 0.2305 | 0.1100 | 0.083 | 0.047 | 0.236 |\n",
       "| 2013 | HDL | 0.0013 | 0.1865 | 0.1878 | 0.1209 | 0.099 | 0.035 | 0.302 |\n",
       "| 2014 | HDL | 0.0711 | 0.2074 | 0.2785 | 0.1141 | 0.090 | 0.060 | 0.548 |\n",
       "| 2015 | HDL | 0.0448 | 0.1571 | 0.2019 | 0.0984 | 0.072 | 0.040 | 0.466 |\n",
       "| 2016 | HDL | 0.0320 | 0.0808 | 0.1128 | 0.0929 | 0.099 | 0.004 | 0.841 |\n",
       "\n"
      ],
      "text/plain": [
       "  year firms ldr    sdr    dr     interest inflation gdp_growth\n",
       "1 2011 HDL   0.0711 0.2730 0.3440 0.1090   0.096     0.034     \n",
       "2 2012 HDL   0.0031 0.2274 0.2305 0.1100   0.083     0.047     \n",
       "3 2013 HDL   0.0013 0.1865 0.1878 0.1209   0.099     0.035     \n",
       "4 2014 HDL   0.0711 0.2074 0.2785 0.1141   0.090     0.060     \n",
       "5 2015 HDL   0.0448 0.1571 0.2019 0.0984   0.072     0.040     \n",
       "6 2016 HDL   0.0320 0.0808 0.1128 0.0929   0.099     0.004     \n",
       "  stock_market_capitalization_gdp\n",
       "1 0.240                          \n",
       "2 0.236                          \n",
       "3 0.302                          \n",
       "4 0.548                          \n",
       "5 0.466                          \n",
       "6 0.841                          "
      ]
     },
     "metadata": {},
     "output_type": "display_data"
    }
   ],
   "source": [
    "# leverage and m.eco dataframe\n",
    "leverage.meco <- leverage %>%\n",
    "inner_join(m.eco, by = \"year\")\n",
    "\n",
    "head(leverage.meco)"
   ]
  },
  {
   "cell_type": "markdown",
   "metadata": {},
   "source": [
    "#### Fixed Effects Panel Regression Model (Individual Effects)"
   ]
  },
  {
   "cell_type": "code",
   "execution_count": 53,
   "metadata": {
    "vscode": {
     "languageId": "r"
    }
   },
   "outputs": [
    {
     "data": {
      "text/plain": [
       "\n",
       "Call:\n",
       "lm(formula = ldr ~ interest + inflation + gdp_growth + stock_market_capitalization_gdp + \n",
       "    firms, data = leverage.meco)\n",
       "\n",
       "Residuals:\n",
       "      Min        1Q    Median        3Q       Max \n",
       "-0.106911 -0.013099 -0.004098  0.006250  0.175228 \n",
       "\n",
       "Coefficients:\n",
       "                                Estimate Std. Error t value Pr(>|t|)    \n",
       "(Intercept)                      0.11189    0.13533   0.827 0.412630    \n",
       "interest                        -0.91722    1.05186  -0.872 0.387738    \n",
       "inflation                        0.05101    0.40762   0.125 0.900963    \n",
       "gdp_growth                       0.24373    0.33549   0.726 0.471214    \n",
       "stock_market_capitalization_gdp -0.02624    0.05670  -0.463 0.645736    \n",
       "firmsBNT                         0.08769    0.02429   3.610 0.000753 ***\n",
       "firmsHDL                         0.00820    0.02127   0.385 0.701693    \n",
       "firmsNLO                        -0.01012    0.02721  -0.372 0.711651    \n",
       "firmsSHIVM                       0.08588    0.02721   3.157 0.002816 ** \n",
       "firmsUNL                        -0.01268    0.02127  -0.596 0.553986    \n",
       "---\n",
       "Signif. codes:  0 '***' 0.001 '**' 0.01 '*' 0.05 '.' 0.1 ' ' 1\n",
       "\n",
       "Residual standard error: 0.05211 on 46 degrees of freedom\n",
       "Multiple R-squared:  0.4125,\tAdjusted R-squared:  0.2975 \n",
       "F-statistic: 3.589 on 9 and 46 DF,  p-value: 0.001887\n"
      ]
     },
     "metadata": {},
     "output_type": "display_data"
    }
   ],
   "source": [
    "# Long-term debt ratio model\n",
    "ldr.model <- lm(ldr ~ interest + inflation + gdp_growth + stock_market_capitalization_gdp + firms, data = leverage.meco)\n",
    "\n",
    "summary(ldr.model)"
   ]
  },
  {
   "cell_type": "code",
   "execution_count": 54,
   "metadata": {
    "vscode": {
     "languageId": "r"
    }
   },
   "outputs": [
    {
     "data": {
      "text/plain": [
       "\n",
       "Call:\n",
       "lm(formula = sdr ~ interest + inflation + gdp_growth + stock_market_capitalization_gdp + \n",
       "    firms, data = leverage.meco)\n",
       "\n",
       "Residuals:\n",
       "      Min        1Q    Median        3Q       Max \n",
       "-0.109089 -0.041196  0.003489  0.041119  0.112456 \n",
       "\n",
       "Coefficients:\n",
       "                                 Estimate Std. Error t value Pr(>|t|)    \n",
       "(Intercept)                      0.402792   0.152097   2.648 0.011047 *  \n",
       "interest                        -2.948056   1.182167  -2.494 0.016297 *  \n",
       "inflation                        1.184955   0.458116   2.587 0.012923 *  \n",
       "gdp_growth                       1.014793   0.377052   2.691 0.009888 ** \n",
       "stock_market_capitalization_gdp -0.211518   0.063727  -3.319 0.001772 ** \n",
       "firmsBNT                         0.145443   0.027300   5.328 2.91e-06 ***\n",
       "firmsHDL                         0.040358   0.023910   1.688 0.098200 .  \n",
       "firmsNLO                         0.333015   0.030577  10.891 2.52e-14 ***\n",
       "firmsSHIVM                       0.006331   0.030577   0.207 0.836878    \n",
       "firmsUNL                        -0.098700   0.023910  -4.128 0.000152 ***\n",
       "---\n",
       "Signif. codes:  0 '***' 0.001 '**' 0.01 '*' 0.05 '.' 0.1 ' ' 1\n",
       "\n",
       "Residual standard error: 0.05857 on 46 degrees of freedom\n",
       "Multiple R-squared:  0.8356,\tAdjusted R-squared:  0.8035 \n",
       "F-statistic: 25.99 on 9 and 46 DF,  p-value: 3.499e-15\n"
      ]
     },
     "metadata": {},
     "output_type": "display_data"
    }
   ],
   "source": [
    "#short-term debt ratio model\n",
    "sdr.model <- lm(sdr ~ interest + inflation + gdp_growth + stock_market_capitalization_gdp + firms, data = leverage.meco)\n",
    "summary(sdr.model)"
   ]
  },
  {
   "cell_type": "code",
   "execution_count": 55,
   "metadata": {
    "vscode": {
     "languageId": "r"
    }
   },
   "outputs": [
    {
     "data": {
      "text/plain": [
       "\n",
       "Call:\n",
       "lm(formula = dr ~ interest + inflation + gdp_growth + stock_market_capitalization_gdp + \n",
       "    firms, data = leverage.meco)\n",
       "\n",
       "Residuals:\n",
       "      Min        1Q    Median        3Q       Max \n",
       "-0.183252 -0.054294 -0.009502  0.044547  0.204785 \n",
       "\n",
       "Coefficients:\n",
       "                                Estimate Std. Error t value Pr(>|t|)    \n",
       "(Intercept)                      0.51455    0.22751   2.262  0.02849 *  \n",
       "interest                        -3.86430    1.76829  -2.185  0.03399 *  \n",
       "inflation                        1.23589    0.68525   1.804  0.07785 .  \n",
       "gdp_growth                       1.25851    0.56399   2.231  0.03057 *  \n",
       "stock_market_capitalization_gdp -0.23770    0.09532  -2.494  0.01630 *  \n",
       "firmsBNT                         0.23312    0.04084   5.709 7.90e-07 ***\n",
       "firmsHDL                         0.04855    0.03577   1.357  0.18126    \n",
       "firmsNLO                         0.32289    0.04574   7.060 7.42e-09 ***\n",
       "firmsSHIVM                       0.09217    0.04574   2.015  0.04974 *  \n",
       "firmsUNL                        -0.11138    0.03577  -3.114  0.00317 ** \n",
       "---\n",
       "Signif. codes:  0 '***' 0.001 '**' 0.01 '*' 0.05 '.' 0.1 ' ' 1\n",
       "\n",
       "Residual standard error: 0.08761 on 46 degrees of freedom\n",
       "Multiple R-squared:  0.7306,\tAdjusted R-squared:  0.6778 \n",
       "F-statistic: 13.86 on 9 and 46 DF,  p-value: 1.942e-10\n"
      ]
     },
     "metadata": {},
     "output_type": "display_data"
    }
   ],
   "source": [
    "# debt ratio model\n",
    "dr.model <- lm(dr ~ interest + inflation + gdp_growth + stock_market_capitalization_gdp + firms, data = leverage.meco)\n",
    "summary(dr.model)"
   ]
  },
  {
   "cell_type": "code",
   "execution_count": 56,
   "metadata": {
    "vscode": {
     "languageId": "r"
    }
   },
   "outputs": [
    {
     "ename": "ERROR",
     "evalue": "Error in vif(ldr.model): could not find function \"vif\"\n",
     "output_type": "error",
     "traceback": [
      "Error in vif(ldr.model): could not find function \"vif\"\nTraceback:\n"
     ]
    }
   ],
   "source": [
    "# Variance inflation factor\n",
    "library(stats)\n",
    "vif(ldr.model)"
   ]
  }
 ],
 "metadata": {
  "kernelspec": {
   "display_name": "R",
   "language": "R",
   "name": "ir"
  },
  "language_info": {
   "codemirror_mode": "r",
   "file_extension": ".r",
   "mimetype": "text/x-r-source",
   "name": "R",
   "pygments_lexer": "r",
   "version": "4.3.1"
  },
  "orig_nbformat": 4
 },
 "nbformat": 4,
 "nbformat_minor": 2
}
